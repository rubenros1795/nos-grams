{
 "cells": [
  {
   "cell_type": "code",
   "execution_count": 1,
   "source": [
    "import pandas as pd\n",
    "import h5py\n",
    "import tables\n",
    "from tqdm import tqdm\n",
    "import string"
   ],
   "outputs": [],
   "metadata": {}
  },
  {
   "cell_type": "code",
   "execution_count": 2,
   "source": [
    "class Unigram(tables.IsDescription):\n",
    "    w = tables.StringCol(20)\n",
    "    freq  = tables.UInt64Col()\n",
    "    m = tables.StringCol(20)\n",
    "\n",
    "\n",
    "class Bigram(tables.IsDescription):\n",
    "    w = tables.StringCol(40)\n",
    "    # w2 = tables.StringCol(40)\n",
    "    freq  = tables.UInt64Col()\n",
    "    m = tables.StringCol(20)\n"
   ],
   "outputs": [],
   "metadata": {}
  },
  {
   "cell_type": "code",
   "execution_count": 3,
   "source": [
    "df = pd.read_csv('/home/ruben/Documents/GitHub/nos-grams/ngrams/2grams.csv')"
   ],
   "outputs": [],
   "metadata": {}
  },
  {
   "cell_type": "code",
   "execution_count": 6,
   "source": [
    "for char in list(string.ascii_lowercase)[1:]:\n",
    "    print(char)\n",
    "    tdf = df[df['ngram'].str.startswith(char)]\n",
    "    fn = \"1grams-\" + char\n",
    "    h5filename = f\"/home/ruben/Documents/GitHub/nos-grams/ngrams/{fn}.h5\"\n",
    "    filters = tables.Filters(complevel=9, complib=\"blosc\", fletcher32=False)\n",
    "    h5f = tables.open_file(h5filename, mode=\"w\", title=\"NOS Bigrams\", filters=filters)\n",
    "    bigrams_table = h5f.create_table(\"/\", \"bigrams\", Bigram, \"Bigrams Table\")\n",
    "\n",
    "    bigram, rows = bigrams_table.row, 0\n",
    "    for i,ngram in tqdm(tdf.iterrows()):\n",
    "        bigram[\"w\"] = ngram['ngram']#.split(' ')[0]\n",
    "        # bigram[\"w2\"] = ngram['ngram'].split(' ')[1]\n",
    "        bigram[\"freq\"] = ngram['frequency']\n",
    "        bigram[\"m\"] = ngram['month']\n",
    "\n",
    "        bigram.append()\n",
    "        rows += 1\n",
    "        if rows % 100000 == 0:\n",
    "            h5f.flush()\n",
    "\n",
    "    # h5f.root.bigram.cols.w.create_index()\n",
    "    # h5f.root.bigram.cols.m.create_index()\n",
    "    # h5f.flush()\n",
    "    h5f.close()"
   ],
   "outputs": [
    {
     "output_type": "stream",
     "name": "stdout",
     "text": [
      "b\n"
     ]
    },
    {
     "output_type": "stream",
     "name": "stderr",
     "text": [
      "1493767it [02:28, 10035.36it/s]\n"
     ]
    },
    {
     "output_type": "stream",
     "name": "stdout",
     "text": [
      "c\n"
     ]
    },
    {
     "output_type": "stream",
     "name": "stderr",
     "text": [
      "463905it [00:39, 11810.43it/s]\n"
     ]
    },
    {
     "output_type": "stream",
     "name": "stdout",
     "text": [
      "d\n"
     ]
    },
    {
     "output_type": "stream",
     "name": "stderr",
     "text": [
      "2215172it [03:01, 12226.47it/s]\n"
     ]
    },
    {
     "output_type": "stream",
     "name": "stdout",
     "text": [
      "e\n"
     ]
    },
    {
     "output_type": "stream",
     "name": "stderr",
     "text": [
      "1527728it [01:58, 12917.27it/s]\n"
     ]
    },
    {
     "output_type": "stream",
     "name": "stdout",
     "text": [
      "f\n"
     ]
    },
    {
     "output_type": "stream",
     "name": "stderr",
     "text": [
      "299705it [00:23, 12962.30it/s]\n"
     ]
    },
    {
     "output_type": "stream",
     "name": "stdout",
     "text": [
      "g\n"
     ]
    },
    {
     "output_type": "stream",
     "name": "stderr",
     "text": [
      "1423958it [01:49, 13054.78it/s]\n"
     ]
    },
    {
     "output_type": "stream",
     "name": "stdout",
     "text": [
      "h\n"
     ]
    },
    {
     "output_type": "stream",
     "name": "stderr",
     "text": [
      "1477238it [01:53, 13021.01it/s]\n"
     ]
    },
    {
     "output_type": "stream",
     "name": "stdout",
     "text": [
      "i\n"
     ]
    },
    {
     "output_type": "stream",
     "name": "stderr",
     "text": [
      "783633it [01:00, 12965.55it/s]\n"
     ]
    },
    {
     "output_type": "stream",
     "name": "stdout",
     "text": [
      "j\n"
     ]
    },
    {
     "output_type": "stream",
     "name": "stderr",
     "text": [
      "346981it [00:26, 13009.90it/s]\n"
     ]
    },
    {
     "output_type": "stream",
     "name": "stdout",
     "text": [
      "k\n"
     ]
    },
    {
     "output_type": "stream",
     "name": "stderr",
     "text": [
      "844651it [01:04, 12995.26it/s]\n"
     ]
    },
    {
     "output_type": "stream",
     "name": "stdout",
     "text": [
      "l\n"
     ]
    },
    {
     "output_type": "stream",
     "name": "stderr",
     "text": [
      "637427it [00:49, 12987.79it/s]\n"
     ]
    },
    {
     "output_type": "stream",
     "name": "stdout",
     "text": [
      "m\n"
     ]
    },
    {
     "output_type": "stream",
     "name": "stderr",
     "text": [
      "1368997it [01:45, 12993.96it/s]\n"
     ]
    },
    {
     "output_type": "stream",
     "name": "stdout",
     "text": [
      "n\n"
     ]
    },
    {
     "output_type": "stream",
     "name": "stderr",
     "text": [
      "813473it [01:02, 12937.46it/s]\n"
     ]
    },
    {
     "output_type": "stream",
     "name": "stdout",
     "text": [
      "o\n"
     ]
    },
    {
     "output_type": "stream",
     "name": "stderr",
     "text": [
      "1376600it [01:45, 13002.32it/s]\n"
     ]
    },
    {
     "output_type": "stream",
     "name": "stdout",
     "text": [
      "p\n"
     ]
    },
    {
     "output_type": "stream",
     "name": "stderr",
     "text": [
      "845802it [01:05, 12950.03it/s]\n"
     ]
    },
    {
     "output_type": "stream",
     "name": "stdout",
     "text": [
      "q\n"
     ]
    },
    {
     "output_type": "stream",
     "name": "stderr",
     "text": [
      "10833it [00:00, 11647.10it/s]\n"
     ]
    },
    {
     "output_type": "stream",
     "name": "stdout",
     "text": [
      "r\n"
     ]
    },
    {
     "output_type": "stream",
     "name": "stderr",
     "text": [
      "640295it [00:37, 16869.72it/s]\n"
     ]
    },
    {
     "output_type": "stream",
     "name": "stdout",
     "text": [
      "s\n"
     ]
    },
    {
     "output_type": "stream",
     "name": "stderr",
     "text": [
      "1284424it [01:17, 16670.41it/s]\n"
     ]
    },
    {
     "output_type": "stream",
     "name": "stdout",
     "text": [
      "t\n"
     ]
    },
    {
     "output_type": "stream",
     "name": "stderr",
     "text": [
      "986074it [01:00, 16397.34it/s]\n"
     ]
    },
    {
     "output_type": "stream",
     "name": "stdout",
     "text": [
      "u\n"
     ]
    },
    {
     "output_type": "stream",
     "name": "stderr",
     "text": [
      "280564it [00:17, 16313.92it/s]\n"
     ]
    },
    {
     "output_type": "stream",
     "name": "stdout",
     "text": [
      "v\n"
     ]
    },
    {
     "output_type": "stream",
     "name": "stderr",
     "text": [
      "2026587it [02:02, 16572.82it/s]\n"
     ]
    },
    {
     "output_type": "stream",
     "name": "stdout",
     "text": [
      "w\n"
     ]
    },
    {
     "output_type": "stream",
     "name": "stderr",
     "text": [
      "1222375it [01:14, 16429.07it/s]\n"
     ]
    },
    {
     "output_type": "stream",
     "name": "stdout",
     "text": [
      "x\n"
     ]
    },
    {
     "output_type": "stream",
     "name": "stderr",
     "text": [
      "4768it [00:00, 13046.26it/s]\n"
     ]
    },
    {
     "output_type": "stream",
     "name": "stdout",
     "text": [
      "y\n"
     ]
    },
    {
     "output_type": "stream",
     "name": "stderr",
     "text": [
      "18162it [00:01, 15863.54it/s]\n"
     ]
    },
    {
     "output_type": "stream",
     "name": "stdout",
     "text": [
      "z\n"
     ]
    },
    {
     "output_type": "stream",
     "name": "stderr",
     "text": [
      "1059700it [01:04, 16467.49it/s]\n"
     ]
    }
   ],
   "metadata": {}
  },
  {
   "cell_type": "code",
   "execution_count": 24,
   "source": [
    "h5f.close()"
   ],
   "outputs": [],
   "metadata": {}
  },
  {
   "cell_type": "code",
   "execution_count": 5,
   "source": [
    "pd.read_hdf(h5filename,'bigrams',where='w=\"aan het\"')"
   ],
   "outputs": [
    {
     "output_type": "stream",
     "name": "stderr",
     "text": [
      "/home/ruben/.local/lib/python3.8/site-packages/pandas/io/pytables.py:3462: IncompatibilityWarning: \n",
      "where criteria is being ignored as this version [0.0.0] is too old (or\n",
      "not-defined), read the file in and write it out to a new file to upgrade (with\n",
      "the copy_to method)\n",
      "\n",
      "  warnings.warn(ws, IncompatibilityWarning)\n"
     ]
    },
    {
     "output_type": "execute_result",
     "data": {
      "text/plain": [
       "     freq        m        w\n",
       "0     127  2010-01  aan het\n",
       "1     145  2010-02  aan het\n",
       "2     124  2010-03  aan het\n",
       "3     153  2010-04  aan het\n",
       "4     157  2010-05  aan het\n",
       "..    ...      ...      ...\n",
       "132   405  2021-01  aan het\n",
       "133   366  2021-02  aan het\n",
       "134   370  2021-03  aan het\n",
       "135   370  2021-04  aan het\n",
       "136   327  2021-05  aan het\n",
       "\n",
       "[137 rows x 3 columns]"
      ],
      "text/html": [
       "<div>\n",
       "<style scoped>\n",
       "    .dataframe tbody tr th:only-of-type {\n",
       "        vertical-align: middle;\n",
       "    }\n",
       "\n",
       "    .dataframe tbody tr th {\n",
       "        vertical-align: top;\n",
       "    }\n",
       "\n",
       "    .dataframe thead th {\n",
       "        text-align: right;\n",
       "    }\n",
       "</style>\n",
       "<table border=\"1\" class=\"dataframe\">\n",
       "  <thead>\n",
       "    <tr style=\"text-align: right;\">\n",
       "      <th></th>\n",
       "      <th>freq</th>\n",
       "      <th>m</th>\n",
       "      <th>w</th>\n",
       "    </tr>\n",
       "  </thead>\n",
       "  <tbody>\n",
       "    <tr>\n",
       "      <th>0</th>\n",
       "      <td>127</td>\n",
       "      <td>2010-01</td>\n",
       "      <td>aan het</td>\n",
       "    </tr>\n",
       "    <tr>\n",
       "      <th>1</th>\n",
       "      <td>145</td>\n",
       "      <td>2010-02</td>\n",
       "      <td>aan het</td>\n",
       "    </tr>\n",
       "    <tr>\n",
       "      <th>2</th>\n",
       "      <td>124</td>\n",
       "      <td>2010-03</td>\n",
       "      <td>aan het</td>\n",
       "    </tr>\n",
       "    <tr>\n",
       "      <th>3</th>\n",
       "      <td>153</td>\n",
       "      <td>2010-04</td>\n",
       "      <td>aan het</td>\n",
       "    </tr>\n",
       "    <tr>\n",
       "      <th>4</th>\n",
       "      <td>157</td>\n",
       "      <td>2010-05</td>\n",
       "      <td>aan het</td>\n",
       "    </tr>\n",
       "    <tr>\n",
       "      <th>...</th>\n",
       "      <td>...</td>\n",
       "      <td>...</td>\n",
       "      <td>...</td>\n",
       "    </tr>\n",
       "    <tr>\n",
       "      <th>132</th>\n",
       "      <td>405</td>\n",
       "      <td>2021-01</td>\n",
       "      <td>aan het</td>\n",
       "    </tr>\n",
       "    <tr>\n",
       "      <th>133</th>\n",
       "      <td>366</td>\n",
       "      <td>2021-02</td>\n",
       "      <td>aan het</td>\n",
       "    </tr>\n",
       "    <tr>\n",
       "      <th>134</th>\n",
       "      <td>370</td>\n",
       "      <td>2021-03</td>\n",
       "      <td>aan het</td>\n",
       "    </tr>\n",
       "    <tr>\n",
       "      <th>135</th>\n",
       "      <td>370</td>\n",
       "      <td>2021-04</td>\n",
       "      <td>aan het</td>\n",
       "    </tr>\n",
       "    <tr>\n",
       "      <th>136</th>\n",
       "      <td>327</td>\n",
       "      <td>2021-05</td>\n",
       "      <td>aan het</td>\n",
       "    </tr>\n",
       "  </tbody>\n",
       "</table>\n",
       "<p>137 rows × 3 columns</p>\n",
       "</div>"
      ]
     },
     "metadata": {},
     "execution_count": 5
    }
   ],
   "metadata": {}
  },
  {
   "cell_type": "code",
   "execution_count": null,
   "source": [],
   "outputs": [],
   "metadata": {}
  }
 ],
 "metadata": {
  "orig_nbformat": 4,
  "language_info": {
   "name": "python",
   "version": "3.8.10",
   "mimetype": "text/x-python",
   "codemirror_mode": {
    "name": "ipython",
    "version": 3
   },
   "pygments_lexer": "ipython3",
   "nbconvert_exporter": "python",
   "file_extension": ".py"
  },
  "kernelspec": {
   "name": "python3",
   "display_name": "Python 3.8.10 64-bit"
  },
  "interpreter": {
   "hash": "31f2aee4e71d21fbe5cf8b01ff0e069b9275f58929596ceb00d14d90e3e16cd6"
  }
 },
 "nbformat": 4,
 "nbformat_minor": 2
}