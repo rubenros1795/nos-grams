{
 "cells": [
  {
   "cell_type": "code",
   "execution_count": 1,
   "source": [
    "import pandas as pd\n",
    "import h5py\n",
    "import tables\n",
    "from tqdm import tqdm"
   ],
   "outputs": [],
   "metadata": {}
  },
  {
   "cell_type": "code",
   "execution_count": 3,
   "source": [
    "class Unigram(tables.IsDescription):\n",
    "    w = tables.StringCol(20)\n",
    "    freq  = tables.UInt64Col()\n",
    "    m = tables.StringCol(20)\n",
    "\n",
    "\n",
    "class Bigram(tables.IsDescription):\n",
    "    w = tables.StringCol(20)\n",
    "    freq  = tables.UInt64Col()\n",
    "    m = tables.StringCol(20)\n",
    "\n"
   ],
   "outputs": [],
   "metadata": {}
  },
  {
   "cell_type": "code",
   "execution_count": 4,
   "source": [
    "# Initialize the H5 file.\n",
    "h5filename = \"/home/ruben/Documents/GitHub/NOSMining/ngrams/1grams.h5\"\n",
    "filters = tables.Filters(complevel=9, complib=\"blosc\", fletcher32=False)\n",
    "h5f = tables.open_file(h5filename, mode=\"w\", title=\"NOS Unigrams\", filters=filters)\n",
    "bigrams_table = h5f.create_table(\"/\", \"unigrams\", Unigram, \"Unigrams Table\")"
   ],
   "outputs": [],
   "metadata": {}
  },
  {
   "cell_type": "code",
   "execution_count": 5,
   "source": [
    "unigram, rows = bigrams_table.row, 0\n",
    "for i,ngram in df.iterrows():\n",
    "    unigram[\"w\"] = ngram['ngram']\n",
    "    unigram[\"freq\"] = ngram['frequency']\n",
    "    unigram[\"m\"] = ngram['month']\n",
    "\n",
    "    unigram.append()\n",
    "    rows += 1\n",
    "    if rows % 100000 == 0:\n",
    "        h5f.flush()\n",
    "        print(\"{:d} ngrams written...\".format(rows))\n",
    "\n",
    "h5f.root.unigrams.cols.w.create_index()\n",
    "h5f.root.unigrams.cols.m.create_index()\n",
    "\n",
    "h5f.flush()\n",
    "h5f.close()"
   ],
   "outputs": [
    {
     "output_type": "stream",
     "name": "stdout",
     "text": [
      "100000 ngrams written...\n",
      "200000 ngrams written...\n",
      "300000 ngrams written...\n",
      "400000 ngrams written...\n",
      "500000 ngrams written...\n",
      "600000 ngrams written...\n",
      "700000 ngrams written...\n",
      "800000 ngrams written...\n",
      "900000 ngrams written...\n",
      "1000000 ngrams written...\n",
      "1100000 ngrams written...\n",
      "1200000 ngrams written...\n",
      "1300000 ngrams written...\n",
      "1400000 ngrams written...\n",
      "1500000 ngrams written...\n",
      "1600000 ngrams written...\n",
      "1700000 ngrams written...\n",
      "1800000 ngrams written...\n",
      "1900000 ngrams written...\n",
      "2000000 ngrams written...\n",
      "2100000 ngrams written...\n",
      "2200000 ngrams written...\n",
      "2300000 ngrams written...\n",
      "2400000 ngrams written...\n",
      "2500000 ngrams written...\n",
      "2600000 ngrams written...\n",
      "2700000 ngrams written...\n",
      "2800000 ngrams written...\n",
      "2900000 ngrams written...\n",
      "3000000 ngrams written...\n",
      "3100000 ngrams written...\n",
      "3200000 ngrams written...\n",
      "3300000 ngrams written...\n",
      "3400000 ngrams written...\n",
      "3500000 ngrams written...\n",
      "3600000 ngrams written...\n"
     ]
    }
   ],
   "metadata": {}
  },
  {
   "cell_type": "code",
   "execution_count": 31,
   "source": [
    "pd.read_hdf(h5filename,'unigrams',where='w=rutte')"
   ],
   "outputs": [
    {
     "output_type": "stream",
     "name": "stderr",
     "text": [
      "/home/ruben/.local/lib/python3.8/site-packages/pandas/io/pytables.py:3462: IncompatibilityWarning: \n",
      "where criteria is being ignored as this version [0.0.0] is too old (or\n",
      "not-defined), read the file in and write it out to a new file to upgrade (with\n",
      "the copy_to method)\n",
      "\n",
      "  warnings.warn(ws, IncompatibilityWarning)\n"
     ]
    },
    {
     "output_type": "execute_result",
     "data": {
      "text/plain": [
       "     freq        m     rfreq      w\n",
       "0       1  2010-01  0.000005  rutte\n",
       "1      16  2010-02  0.000084  rutte\n",
       "2      20  2010-03  0.000098  rutte\n",
       "3      30  2010-04  0.000145  rutte\n",
       "4     117  2010-05  0.000549  rutte\n",
       "..    ...      ...       ...    ...\n",
       "133   263  2021-02  0.000530  rutte\n",
       "134   325  2021-03  0.000599  rutte\n",
       "135   459  2021-04  0.000956  rutte\n",
       "136   227  2021-05  0.000506  rutte\n",
       "137   227  2021-05  0.000506  rutte\n",
       "\n",
       "[138 rows x 4 columns]"
      ],
      "text/html": [
       "<div>\n",
       "<style scoped>\n",
       "    .dataframe tbody tr th:only-of-type {\n",
       "        vertical-align: middle;\n",
       "    }\n",
       "\n",
       "    .dataframe tbody tr th {\n",
       "        vertical-align: top;\n",
       "    }\n",
       "\n",
       "    .dataframe thead th {\n",
       "        text-align: right;\n",
       "    }\n",
       "</style>\n",
       "<table border=\"1\" class=\"dataframe\">\n",
       "  <thead>\n",
       "    <tr style=\"text-align: right;\">\n",
       "      <th></th>\n",
       "      <th>freq</th>\n",
       "      <th>m</th>\n",
       "      <th>rfreq</th>\n",
       "      <th>w</th>\n",
       "    </tr>\n",
       "  </thead>\n",
       "  <tbody>\n",
       "    <tr>\n",
       "      <th>0</th>\n",
       "      <td>1</td>\n",
       "      <td>2010-01</td>\n",
       "      <td>0.000005</td>\n",
       "      <td>rutte</td>\n",
       "    </tr>\n",
       "    <tr>\n",
       "      <th>1</th>\n",
       "      <td>16</td>\n",
       "      <td>2010-02</td>\n",
       "      <td>0.000084</td>\n",
       "      <td>rutte</td>\n",
       "    </tr>\n",
       "    <tr>\n",
       "      <th>2</th>\n",
       "      <td>20</td>\n",
       "      <td>2010-03</td>\n",
       "      <td>0.000098</td>\n",
       "      <td>rutte</td>\n",
       "    </tr>\n",
       "    <tr>\n",
       "      <th>3</th>\n",
       "      <td>30</td>\n",
       "      <td>2010-04</td>\n",
       "      <td>0.000145</td>\n",
       "      <td>rutte</td>\n",
       "    </tr>\n",
       "    <tr>\n",
       "      <th>4</th>\n",
       "      <td>117</td>\n",
       "      <td>2010-05</td>\n",
       "      <td>0.000549</td>\n",
       "      <td>rutte</td>\n",
       "    </tr>\n",
       "    <tr>\n",
       "      <th>...</th>\n",
       "      <td>...</td>\n",
       "      <td>...</td>\n",
       "      <td>...</td>\n",
       "      <td>...</td>\n",
       "    </tr>\n",
       "    <tr>\n",
       "      <th>133</th>\n",
       "      <td>263</td>\n",
       "      <td>2021-02</td>\n",
       "      <td>0.000530</td>\n",
       "      <td>rutte</td>\n",
       "    </tr>\n",
       "    <tr>\n",
       "      <th>134</th>\n",
       "      <td>325</td>\n",
       "      <td>2021-03</td>\n",
       "      <td>0.000599</td>\n",
       "      <td>rutte</td>\n",
       "    </tr>\n",
       "    <tr>\n",
       "      <th>135</th>\n",
       "      <td>459</td>\n",
       "      <td>2021-04</td>\n",
       "      <td>0.000956</td>\n",
       "      <td>rutte</td>\n",
       "    </tr>\n",
       "    <tr>\n",
       "      <th>136</th>\n",
       "      <td>227</td>\n",
       "      <td>2021-05</td>\n",
       "      <td>0.000506</td>\n",
       "      <td>rutte</td>\n",
       "    </tr>\n",
       "    <tr>\n",
       "      <th>137</th>\n",
       "      <td>227</td>\n",
       "      <td>2021-05</td>\n",
       "      <td>0.000506</td>\n",
       "      <td>rutte</td>\n",
       "    </tr>\n",
       "  </tbody>\n",
       "</table>\n",
       "<p>138 rows × 4 columns</p>\n",
       "</div>"
      ]
     },
     "metadata": {},
     "execution_count": 31
    }
   ],
   "metadata": {}
  },
  {
   "cell_type": "code",
   "execution_count": 2,
   "source": [
    "import json\n",
    "with open('metadata.json','r') as f:\n",
    "    md = json.load(f)"
   ],
   "outputs": [],
   "metadata": {}
  },
  {
   "cell_type": "code",
   "execution_count": 5,
   "source": [
    "list(md.keys())[90000]"
   ],
   "outputs": [
    {
     "output_type": "execute_result",
     "data": {
      "text/plain": [
       "'html/2018-08-25-18.html'"
      ]
     },
     "metadata": {},
     "execution_count": 5
    }
   ],
   "metadata": {}
  },
  {
   "cell_type": "code",
   "execution_count": 6,
   "source": [
    "md['html/2018-08-25-18.html']"
   ],
   "outputs": [
    {
     "output_type": "execute_result",
     "data": {
      "text/plain": [
       "{'categories': ['Binnenland'],\n",
       " 'date': '25-08-2018, 13:18',\n",
       " 'date_edited': None,\n",
       " 'title': 'Waarom Nederland absolute grootmacht is op gebied van xtc en speed  '}"
      ]
     },
     "metadata": {},
     "execution_count": 6
    }
   ],
   "metadata": {}
  },
  {
   "cell_type": "code",
   "execution_count": null,
   "source": [],
   "outputs": [],
   "metadata": {}
  }
 ],
 "metadata": {
  "orig_nbformat": 4,
  "language_info": {
   "name": "python",
   "version": "3.8.10",
   "mimetype": "text/x-python",
   "codemirror_mode": {
    "name": "ipython",
    "version": 3
   },
   "pygments_lexer": "ipython3",
   "nbconvert_exporter": "python",
   "file_extension": ".py"
  },
  "kernelspec": {
   "name": "python3",
   "display_name": "Python 3.8.10 64-bit"
  },
  "interpreter": {
   "hash": "31f2aee4e71d21fbe5cf8b01ff0e069b9275f58929596ceb00d14d90e3e16cd6"
  }
 },
 "nbformat": 4,
 "nbformat_minor": 2
}