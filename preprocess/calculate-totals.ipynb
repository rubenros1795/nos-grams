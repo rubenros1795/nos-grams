{
 "cells": [
  {
   "cell_type": "code",
   "execution_count": 2,
   "source": [
    "import pandas as pd\n",
    "from glob import glob as gb \n",
    "from bs4 import BeautifulSoup as bs\n",
    "import random\n",
    "from tqdm import tqdm\n",
    "import json\n",
    "import collections\n",
    "import pandas as pd\n",
    "import itertools\n",
    "from collections import Counter\n",
    "import datetime\n",
    "import matplotlib.pyplot as plt \n",
    "from subprocess import call \n",
    "from datetime import datetime\n",
    "from unidecode import unidecode\n",
    "import string,re\n",
    "\n",
    "from functions import *\n"
   ],
   "outputs": [
    {
     "output_type": "stream",
     "name": "stderr",
     "text": [
      "/usr/lib/python3/dist-packages/requests/__init__.py:89: RequestsDependencyWarning: urllib3 (1.25.9) or chardet (4.0.0) doesn't match a supported version!\n",
      "  warnings.warn(\"urllib3 ({}) or chardet ({}) doesn't match a supported \"\n"
     ]
    }
   ],
   "metadata": {}
  },
  {
   "cell_type": "code",
   "execution_count": 17,
   "source": [
    "files_ = os.listdir('/home/ruben/Documents/GitHub/NOSMining/txt')\n",
    "months = set([\"-\".join(x.split('-')[:2]) for x in files_])\n",
    "months = {x.replace('-','-0') if len(x) == 6 else x for x in months}\n",
    "d = {m:[os.path.join('/home/ruben/Documents/GitHub/NOSMining/txt',f) for f in files_ if f.startswith(m)] for m in months}"
   ],
   "outputs": [],
   "metadata": {}
  },
  {
   "cell_type": "code",
   "execution_count": 21,
   "source": [
    "def preproc(text):\n",
    "    \n",
    "    return text"
   ],
   "outputs": [],
   "metadata": {}
  },
  {
   "cell_type": "code",
   "execution_count": 24,
   "source": [
    "def count_tokens(fn):\n",
    "    with open(fn,'r') as f:\n",
    "        l = f.readlines()\n",
    "    text = \" \".join(l)\n",
    "    text = text.replace('[TITLE] ','')\n",
    "    text = unidecode(text)\n",
    "    text = text.lower()\n",
    "    regex = re.compile('[^a-zA-Z]')\n",
    "    text = regex.sub(' ', text) \n",
    "    text = re.sub(' +', ' ',text)\n",
    "    return len(text.split(' '))"
   ],
   "outputs": [],
   "metadata": {}
  },
  {
   "cell_type": "code",
   "execution_count": 26,
   "source": [
    "dcounts = {k:[count_tokens(f) for f in v] for k,v in tqdm(d.items())}"
   ],
   "outputs": [
    {
     "output_type": "stream",
     "name": "stderr",
     "text": [
      "100%|██████████| 137/137 [02:05<00:00,  1.09it/s]\n"
     ]
    }
   ],
   "metadata": {}
  },
  {
   "cell_type": "code",
   "execution_count": 28,
   "source": [
    "dcounts = {k:sum(v) for k,v in dcounts.items()}"
   ],
   "outputs": [],
   "metadata": {}
  },
  {
   "cell_type": "code",
   "execution_count": 29,
   "source": [
    "with open('totals.json','w') as f:\n",
    "    json.dump(dcounts,f)"
   ],
   "outputs": [],
   "metadata": {}
  },
  {
   "cell_type": "code",
   "execution_count": 11,
   "source": [
    "df = pd.read_hdf(\"/home/ruben/Documents/GitHub/NOSMining/ngrams/1grams.h5\",'unigrams',columns=['w'])\n"
   ],
   "outputs": [],
   "metadata": {}
  },
  {
   "cell_type": "code",
   "execution_count": 13,
   "source": [
    "unique_terms = set(df['w'])"
   ],
   "outputs": [],
   "metadata": {}
  },
  {
   "cell_type": "code",
   "execution_count": 16,
   "source": [
    "pd.DataFrame(list(unique_terms),columns=['w']).to_csv('unique_terms.csv',index=False)"
   ],
   "outputs": [],
   "metadata": {}
  },
  {
   "cell_type": "code",
   "execution_count": null,
   "source": [],
   "outputs": [],
   "metadata": {}
  }
 ],
 "metadata": {
  "orig_nbformat": 4,
  "language_info": {
   "name": "python",
   "version": "3.8.10",
   "mimetype": "text/x-python",
   "codemirror_mode": {
    "name": "ipython",
    "version": 3
   },
   "pygments_lexer": "ipython3",
   "nbconvert_exporter": "python",
   "file_extension": ".py"
  },
  "kernelspec": {
   "name": "python3",
   "display_name": "Python 3.8.10 64-bit"
  },
  "interpreter": {
   "hash": "31f2aee4e71d21fbe5cf8b01ff0e069b9275f58929596ceb00d14d90e3e16cd6"
  }
 },
 "nbformat": 4,
 "nbformat_minor": 2
}